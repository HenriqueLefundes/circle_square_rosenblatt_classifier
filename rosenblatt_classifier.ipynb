{
 "cells": [
  {
   "cell_type": "code",
   "execution_count": 351,
   "metadata": {},
   "outputs": [],
   "source": [
    "import pandas as pd\n",
    "import matplotlib.pyplot as plt\n",
    "import numpy as np\n",
    "from sklearn.metrics import accuracy_score\n",
    "import time\n"
   ]
  },
  {
   "attachments": {},
   "cell_type": "markdown",
   "metadata": {},
   "source": [
    "<h2>Read and prepare dataset</h2>"
   ]
  },
  {
   "cell_type": "code",
   "execution_count": 299,
   "metadata": {},
   "outputs": [
    {
     "data": {
      "text/html": [
       "<div>\n",
       "<style scoped>\n",
       "    .dataframe tbody tr th:only-of-type {\n",
       "        vertical-align: middle;\n",
       "    }\n",
       "\n",
       "    .dataframe tbody tr th {\n",
       "        vertical-align: top;\n",
       "    }\n",
       "\n",
       "    .dataframe thead th {\n",
       "        text-align: right;\n",
       "    }\n",
       "</style>\n",
       "<table border=\"1\" class=\"dataframe\">\n",
       "  <thead>\n",
       "    <tr style=\"text-align: right;\">\n",
       "      <th></th>\n",
       "      <th>0</th>\n",
       "      <th>1</th>\n",
       "      <th>2</th>\n",
       "      <th>3</th>\n",
       "      <th>4</th>\n",
       "      <th>5</th>\n",
       "      <th>6</th>\n",
       "      <th>7</th>\n",
       "      <th>8</th>\n",
       "      <th>9</th>\n",
       "      <th>...</th>\n",
       "      <th>391</th>\n",
       "      <th>392</th>\n",
       "      <th>393</th>\n",
       "      <th>394</th>\n",
       "      <th>395</th>\n",
       "      <th>396</th>\n",
       "      <th>397</th>\n",
       "      <th>398</th>\n",
       "      <th>399</th>\n",
       "      <th>400</th>\n",
       "    </tr>\n",
       "  </thead>\n",
       "  <tbody>\n",
       "    <tr>\n",
       "      <th>0</th>\n",
       "      <td>0.0</td>\n",
       "      <td>0.0</td>\n",
       "      <td>0.0</td>\n",
       "      <td>0.0</td>\n",
       "      <td>0.0</td>\n",
       "      <td>0.0</td>\n",
       "      <td>1.0</td>\n",
       "      <td>0.0</td>\n",
       "      <td>0.0</td>\n",
       "      <td>0.0</td>\n",
       "      <td>...</td>\n",
       "      <td>0.0</td>\n",
       "      <td>0.0</td>\n",
       "      <td>0.0</td>\n",
       "      <td>0.0</td>\n",
       "      <td>0.0</td>\n",
       "      <td>0.0</td>\n",
       "      <td>0.0</td>\n",
       "      <td>0.0</td>\n",
       "      <td>0.0</td>\n",
       "      <td>-1.0</td>\n",
       "    </tr>\n",
       "    <tr>\n",
       "      <th>1</th>\n",
       "      <td>0.0</td>\n",
       "      <td>0.0</td>\n",
       "      <td>0.0</td>\n",
       "      <td>0.0</td>\n",
       "      <td>0.0</td>\n",
       "      <td>0.0</td>\n",
       "      <td>0.0</td>\n",
       "      <td>0.0</td>\n",
       "      <td>0.0</td>\n",
       "      <td>0.0</td>\n",
       "      <td>...</td>\n",
       "      <td>0.0</td>\n",
       "      <td>0.0</td>\n",
       "      <td>0.0</td>\n",
       "      <td>0.0</td>\n",
       "      <td>0.0</td>\n",
       "      <td>0.0</td>\n",
       "      <td>0.0</td>\n",
       "      <td>0.0</td>\n",
       "      <td>0.0</td>\n",
       "      <td>-1.0</td>\n",
       "    </tr>\n",
       "    <tr>\n",
       "      <th>2</th>\n",
       "      <td>0.0</td>\n",
       "      <td>0.0</td>\n",
       "      <td>0.0</td>\n",
       "      <td>0.0</td>\n",
       "      <td>0.0</td>\n",
       "      <td>0.0</td>\n",
       "      <td>0.0</td>\n",
       "      <td>0.0</td>\n",
       "      <td>0.0</td>\n",
       "      <td>0.0</td>\n",
       "      <td>...</td>\n",
       "      <td>0.0</td>\n",
       "      <td>0.0</td>\n",
       "      <td>0.0</td>\n",
       "      <td>0.0</td>\n",
       "      <td>0.0</td>\n",
       "      <td>0.0</td>\n",
       "      <td>0.0</td>\n",
       "      <td>0.0</td>\n",
       "      <td>0.0</td>\n",
       "      <td>-1.0</td>\n",
       "    </tr>\n",
       "    <tr>\n",
       "      <th>3</th>\n",
       "      <td>0.0</td>\n",
       "      <td>0.0</td>\n",
       "      <td>0.0</td>\n",
       "      <td>0.0</td>\n",
       "      <td>0.0</td>\n",
       "      <td>0.0</td>\n",
       "      <td>0.0</td>\n",
       "      <td>0.0</td>\n",
       "      <td>0.0</td>\n",
       "      <td>0.0</td>\n",
       "      <td>...</td>\n",
       "      <td>0.0</td>\n",
       "      <td>0.0</td>\n",
       "      <td>0.0</td>\n",
       "      <td>0.0</td>\n",
       "      <td>0.0</td>\n",
       "      <td>0.0</td>\n",
       "      <td>0.0</td>\n",
       "      <td>0.0</td>\n",
       "      <td>0.0</td>\n",
       "      <td>-1.0</td>\n",
       "    </tr>\n",
       "    <tr>\n",
       "      <th>4</th>\n",
       "      <td>0.0</td>\n",
       "      <td>0.0</td>\n",
       "      <td>0.0</td>\n",
       "      <td>0.0</td>\n",
       "      <td>0.0</td>\n",
       "      <td>0.0</td>\n",
       "      <td>0.0</td>\n",
       "      <td>0.0</td>\n",
       "      <td>0.0</td>\n",
       "      <td>0.0</td>\n",
       "      <td>...</td>\n",
       "      <td>0.0</td>\n",
       "      <td>0.0</td>\n",
       "      <td>0.0</td>\n",
       "      <td>0.0</td>\n",
       "      <td>0.0</td>\n",
       "      <td>0.0</td>\n",
       "      <td>0.0</td>\n",
       "      <td>0.0</td>\n",
       "      <td>0.0</td>\n",
       "      <td>1.0</td>\n",
       "    </tr>\n",
       "  </tbody>\n",
       "</table>\n",
       "<p>5 rows × 401 columns</p>\n",
       "</div>"
      ],
      "text/plain": [
       "     0    1    2    3    4    5    6    7    8    9  ...  391  392  393  394  \\\n",
       "0  0.0  0.0  0.0  0.0  0.0  0.0  1.0  0.0  0.0  0.0  ...  0.0  0.0  0.0  0.0   \n",
       "1  0.0  0.0  0.0  0.0  0.0  0.0  0.0  0.0  0.0  0.0  ...  0.0  0.0  0.0  0.0   \n",
       "2  0.0  0.0  0.0  0.0  0.0  0.0  0.0  0.0  0.0  0.0  ...  0.0  0.0  0.0  0.0   \n",
       "3  0.0  0.0  0.0  0.0  0.0  0.0  0.0  0.0  0.0  0.0  ...  0.0  0.0  0.0  0.0   \n",
       "4  0.0  0.0  0.0  0.0  0.0  0.0  0.0  0.0  0.0  0.0  ...  0.0  0.0  0.0  0.0   \n",
       "\n",
       "   395  396  397  398  399  400  \n",
       "0  0.0  0.0  0.0  0.0  0.0 -1.0  \n",
       "1  0.0  0.0  0.0  0.0  0.0 -1.0  \n",
       "2  0.0  0.0  0.0  0.0  0.0 -1.0  \n",
       "3  0.0  0.0  0.0  0.0  0.0 -1.0  \n",
       "4  0.0  0.0  0.0  0.0  0.0  1.0  \n",
       "\n",
       "[5 rows x 401 columns]"
      ]
     },
     "execution_count": 299,
     "metadata": {},
     "output_type": "execute_result"
    }
   ],
   "source": [
    "# Read dataset\n",
    "data_df = pd.read_csv(\"circles_and_squares.csv\")\n",
    "data_df.head()"
   ]
  },
  {
   "cell_type": "code",
   "execution_count": 318,
   "metadata": {},
   "outputs": [
    {
     "data": {
      "text/plain": [
       "(1000, 401)"
      ]
     },
     "execution_count": 318,
     "metadata": {},
     "output_type": "execute_result"
    }
   ],
   "source": [
    "# Transform into numpy array\n",
    "data = data_df.to_numpy()\n",
    "data.shape"
   ]
  },
  {
   "cell_type": "code",
   "execution_count": 301,
   "metadata": {},
   "outputs": [
    {
     "name": "stdout",
     "output_type": "stream",
     "text": [
      "Quantidade de quadrados: 500\n",
      "Quantidade de círculos: 500\n"
     ]
    }
   ],
   "source": [
    "# Verify whether the dataset is balanced\n",
    "n_square = 1*np.array([data[:, -1] == -1])\n",
    "n_circle= 1*np.array([data[:, -1] == 1])\n",
    "\n",
    "print(\"Quantidade de quadrados:\", sum(sum(n_square)))\n",
    "print(\"Quantidade de círculos:\", sum(sum(n_circle)))"
   ]
  },
  {
   "cell_type": "code",
   "execution_count": 304,
   "metadata": {},
   "outputs": [],
   "source": [
    "# Prepare training dataset\n",
    "Xd = data[:800, :]\n",
    "X = data[:800, :-1] # Inputs\n",
    "d = data[:800, -1].reshape(-1,1) # Output\n",
    "\n",
    "\n",
    "# Prepare test dataset\n",
    "Xd_test = data[800:, :]\n",
    "\n",
    "X_test = data[800:, :-1] # Inputs\n",
    "X_test = np.hstack((np.ones((X_test.shape[0], 1)), X_test)) # Insert a columns of 1's (bias)\n",
    "\n",
    "d_test = data[800:, -1].reshape(-1,1) # Outputs"
   ]
  },
  {
   "cell_type": "code",
   "execution_count": 305,
   "metadata": {},
   "outputs": [
    {
     "name": "stdout",
     "output_type": "stream",
     "text": [
      "Quantidade de quadrados para treinamento: 404\n",
      "Quantidade de círculos para treinamento: 396\n"
     ]
    }
   ],
   "source": [
    "# Verify whether the training dataset is balanced\n",
    "n_square = 1*np.array([Xd[:, -1] == -1])\n",
    "n_circle = 1*np.array([Xd[:, -1] == 1])\n",
    "\n",
    "print(\"Quantidade de quadrados para treinamento:\", sum(sum(n_square)))\n",
    "print(\"Quantidade de círculos para treinamento:\", sum(sum(n_circle)))"
   ]
  },
  {
   "cell_type": "code",
   "execution_count": 306,
   "metadata": {},
   "outputs": [
    {
     "data": {
      "text/plain": [
       "<matplotlib.image.AxesImage at 0x2cc6aad4ee0>"
      ]
     },
     "execution_count": 306,
     "metadata": {},
     "output_type": "execute_result"
    },
    {
     "data": {
      "image/png": "[encoded data removed]",
      "text/plain": [
       "<Figure size 432x288 with 1 Axes>"
      ]
     },
     "metadata": {
      "needs_background": "light"
     },
     "output_type": "display_data"
    }
   ],
   "source": [
    "# Heat map of most activated pixels \n",
    "heat = np.sum(X, axis = 0).reshape((20,20))\n",
    "plt.imshow(heat)"
   ]
  },
  {
   "attachments": {},
   "cell_type": "markdown",
   "metadata": {},
   "source": [
    "<h2>Training</h2>"
   ]
  },
  {
   "cell_type": "code",
   "execution_count": 307,
   "metadata": {},
   "outputs": [],
   "source": [
    "def Rosenblatt_minibatch(x, d, eta, Nt, Ne, Nb, dw):\n",
    "    \"\"\"\n",
    "    W = Rosenblatt_minibatch(x, d, eta, Nt, Ne, Nb)\n",
    "    x: sinal de entrada\n",
    "    d: sinal desejado\n",
    "    eta: passo de adaptação\n",
    "    Nt: número de dados de treinamento\n",
    "    Ne: número de épocas\n",
    "    Nb: tamanho do mini-batch\n",
    "    dw: inicialização dos pesos e bias com distribuição uniforme no invervalo [-dw, dw]\n",
    "    \"\"\"\n",
    "    ############# Same algorithm seen in class (except for output function)\n",
    "    M = x.shape[1]\n",
    "    Nmb = int(np.floor(Nt / Nb))\n",
    "    W = np.random.uniform(-dw, dw, (Ne * Nmb + 1, M + 1))\n",
    "    Xd = np.hstack((np.ones((Nt, 1)), x, d))\n",
    "\n",
    "    eta = eta / Nb\n",
    "    for k in range(Ne):\n",
    "        np.random.shuffle(Xd)\n",
    "        x = Xd[:, 0 : M + 1]\n",
    "        d = Xd[:, [M + 1]]\n",
    "        for l in range(Nmb):\n",
    "            dmb = d[l * Nb : (l + 1) * Nb]\n",
    "            xmb = x[l * Nb : (l + 1) * Nb, :]\n",
    "            m = k*Nmb + l\n",
    "            vmb = xmb @ W[[m], :].T\n",
    "            ymb = np.sign(vmb) # Here we must use sign function instead of heaviside \n",
    "            emb = dmb - ymb\n",
    "            W[[m + 1], :] = W[[m], :] + (eta*(xmb.T @ emb)).T\n",
    "\n",
    "    return W"
   ]
  },
  {
   "cell_type": "code",
   "execution_count": 482,
   "metadata": {},
   "outputs": [
    {
     "name": "stdout",
     "output_type": "stream",
     "text": [
      "16\n"
     ]
    }
   ],
   "source": [
    "# Set the training parameters\n",
    "eta = 50\n",
    "Nt = X.shape[0]\n",
    "Ne = 10000\n",
    "Nb = 50\n",
    "dw = 10\n",
    "Nmb = int(np.floor(Nt / Nb))\n",
    "\n",
    "print(Nmb)"
   ]
  },
  {
   "cell_type": "code",
   "execution_count": 483,
   "metadata": {},
   "outputs": [],
   "source": [
    "# Train the model and get the weights\n",
    "W = Rosenblatt_minibatch(X, d, eta, Nt, Ne, Nb, dw)\n",
    "Wfinal = W[-1,:].reshape(-1,1)"
   ]
  },
  {
   "attachments": {},
   "cell_type": "markdown",
   "metadata": {},
   "source": [
    "<h2>Metrics</h2>"
   ]
  },
  {
   "cell_type": "code",
   "execution_count": 484,
   "metadata": {},
   "outputs": [
    {
     "name": "stdout",
     "output_type": "stream",
     "text": [
      "Acurácia: 70.0\n",
      "Taxa de erro (coplemento): 30.0\n"
     ]
    },
    {
     "data": {
      "text/plain": [
       "<matplotlib.image.AxesImage at 0x2cc763fbb20>"
      ]
     },
     "execution_count": 484,
     "metadata": {},
     "output_type": "execute_result"
    },
    {
     "data": {
      "image/png": "[encoded data removed]",
      "text/plain": [
       "<Figure size 432x288 with 1 Axes>"
      ]
     },
     "metadata": {
      "needs_background": "light"
     },
     "output_type": "display_data"
    }
   ],
   "source": [
    "# Do the predicition\n",
    "y = np.sign(X_test @ Wfinal).reshape(-1,1) \n",
    "\n",
    "# Evaluate the metrics\n",
    "accuracy = accuracy_score(d_test, y)\n",
    "print(\"Acurácia:\", accuracy*100)\n",
    "print(\"Taxa de erro (coplemento):\", 100 - accuracy*100)\n",
    "\n",
    "# Weights' heat map\n",
    "heat_map_weights = Wfinal[1:].reshape((20,20))\n",
    "plt.imshow(heat_map_weights)"
   ]
  },
  {
   "attachments": {},
   "cell_type": "markdown",
   "metadata": {},
   "source": [
    "<h2>Additional analysis</h2>"
   ]
  },
  {
   "attachments": {},
   "cell_type": "markdown",
   "metadata": {},
   "source": [
    "<h3>Epoch - Training time and performance improvement</h3>"
   ]
  },
  {
   "cell_type": "code",
   "execution_count": 399,
   "metadata": {},
   "outputs": [],
   "source": [
    "eta = 0.5 \n",
    "Nt = X.shape[0]\n",
    "Nb = 40\n",
    "dw = 10\n",
    "\n",
    "start = 1000\n",
    "step = 5000\n",
    "stop = 100000 + step\n",
    "\n",
    "Nes = range(start, stop, step)"
   ]
  },
  {
   "cell_type": "code",
   "execution_count": 400,
   "metadata": {},
   "outputs": [
    {
     "name": "stdout",
     "output_type": "stream",
     "text": [
      "################################################\n",
      "Training 1\n",
      "Training model using 1000 epochs\n",
      " -- Training finished --\n",
      "################################################\n",
      "Training 2\n",
      "Training model using 6000 epochs\n",
      " -- Training finished --\n",
      "################################################\n",
      "Training 3\n",
      "Training model using 11000 epochs\n",
      " -- Training finished --\n",
      "################################################\n",
      "Training 4\n",
      "Training model using 16000 epochs\n",
      " -- Training finished --\n",
      "################################################\n",
      "Training 5\n",
      "Training model using 21000 epochs\n",
      " -- Training finished --\n",
      "################################################\n",
      "Training 6\n",
      "Training model using 26000 epochs\n",
      " -- Training finished --\n",
      "################################################\n",
      "Training 7\n",
      "Training model using 31000 epochs\n",
      " -- Training finished --\n",
      "################################################\n",
      "Training 8\n",
      "Training model using 36000 epochs\n",
      " -- Training finished --\n",
      "################################################\n",
      "Training 9\n",
      "Training model using 41000 epochs\n",
      " -- Training finished --\n",
      "################################################\n",
      "Training 10\n",
      "Training model using 46000 epochs\n",
      " -- Training finished --\n",
      "################################################\n",
      "Training 11\n",
      "Training model using 51000 epochs\n",
      " -- Training finished --\n",
      "################################################\n",
      "Training 12\n",
      "Training model using 56000 epochs\n",
      " -- Training finished --\n",
      "################################################\n",
      "Training 13\n",
      "Training model using 61000 epochs\n",
      " -- Training finished --\n",
      "################################################\n",
      "Training 14\n",
      "Training model using 66000 epochs\n",
      " -- Training finished --\n",
      "################################################\n",
      "Training 15\n",
      "Training model using 71000 epochs\n",
      " -- Training finished --\n",
      "################################################\n",
      "Training 16\n",
      "Training model using 76000 epochs\n",
      " -- Training finished --\n",
      "################################################\n",
      "Training 17\n",
      "Training model using 81000 epochs\n",
      " -- Training finished --\n",
      "################################################\n",
      "Training 18\n",
      "Training model using 86000 epochs\n",
      " -- Training finished --\n",
      "################################################\n",
      "Training 19\n",
      "Training model using 91000 epochs\n",
      " -- Training finished --\n",
      "################################################\n",
      "Training 20\n",
      "Training model using 96000 epochs\n",
      " -- Training finished --\n",
      "################################################\n",
      "Training 21\n",
      "Training model using 101000 epochs\n",
      " -- Training finished --\n",
      "############## Analysis finished ##############\n",
      "Best accuracy score: 72.0%\n",
      "Best score at training 13 with 61000 epochs\n"
     ]
    }
   ],
   "source": [
    "accuracy_vector = []\n",
    "time_spent = []\n",
    "\n",
    "f = open(\"epoch_time_accuracy.txt\", \"w\")\n",
    "f.write(f\"eta = {eta}\\n\")\n",
    "f.write(f\"Nb = {Nb}\\n\")\n",
    "f.write(f\"Nt = {X.shape[0]}\\n\")\n",
    "f.write(f\"dw = {10}\\n\")\n",
    "\n",
    "for epoch in Nes:\n",
    "    print(\"################################################\")\n",
    "    print(f\"Training {Nes.index(epoch) + 1}\")\n",
    "    print(f\"Training model using {epoch} epochs\")\n",
    "\n",
    "    f.write(\"################################################ \\n\")\n",
    "    f.write(f\"Training {Nes.index(epoch) + 1} \\n\")\n",
    "    f.write(f\"Training model using {epoch} epochs \\n\")\n",
    "\n",
    "    start_time = time.time()\n",
    "    W = Rosenblatt_minibatch(X, d, eta, Nt, epoch, Nb, dw)\n",
    "    Wfinal = W[-1,:].reshape(-1,1)\n",
    "    end_time = time.time()\n",
    "\n",
    "    print(f\" -- Training finished --\")\n",
    "\n",
    "    time_spent.append(end_time - start_time)\n",
    "    f.write(f\"Time spent = {end_time - start_time} \\n\")\n",
    "\n",
    "    y = np.sign(X_test @ Wfinal).reshape(-1,1) \n",
    "    accuracy_i = accuracy_score(d_test, y)\n",
    "    accuracy_vector.append(accuracy_i)\n",
    "\n",
    "    f.write(f\"Accuracy = {accuracy_i*100}% \\n\")\n",
    "\n",
    "best_epoch_index = accuracy_vector.index(max(accuracy_vector))\n",
    "\n",
    "print(\"############## Analysis finished ##############\")\n",
    "print(f\"Best accuracy score: {max(accuracy_vector)*100}%\")\n",
    "print(f\"Best score at training {best_epoch_index+1} with {Nes[best_epoch_index]} epochs\")\n",
    "\n",
    "f.write(\"############## Analysis finished ##############\\n\")\n",
    "f.write(f\"Best accuracy score: {max(accuracy_vector)*100}%\\n\")\n",
    "f.write(f\"Best score at training {best_epoch_index+1} with {Nes[best_epoch_index]} epochs\\n\")\n",
    "\n",
    "f.close()"
   ]
  },
  {
   "cell_type": "code",
   "execution_count": 407,
   "metadata": {},
   "outputs": [
    {
     "data": {
      "image/png": "[encoded data removed]",
      "text/plain": [
       "<Figure size 432x288 with 1 Axes>"
      ]
     },
     "metadata": {
      "needs_background": "light"
     },
     "output_type": "display_data"
    }
   ],
   "source": [
    "plt.plot(Nes, time_spent)\n",
    "plt.xlabel(\"Epochs\")\n",
    "plt.ylabel(\"Time (s)\")\n",
    "plt.title(\"Training time by number of epochs\")\n",
    "plt.show()"
   ]
  },
  {
   "cell_type": "code",
   "execution_count": 408,
   "metadata": {},
   "outputs": [
    {
     "data": {
      "image/png": "[encoded data removed]",
      "text/plain": [
       "<Figure size 432x288 with 1 Axes>"
      ]
     },
     "metadata": {
      "needs_background": "light"
     },
     "output_type": "display_data"
    }
   ],
   "source": [
    "plt.plot(Nes, accuracy_vector)\n",
    "plt.xlabel(\"Epochs\")\n",
    "plt.ylabel(\"Accuracy (%)\")\n",
    "plt.title(\"Accuracy by number of epochs\")\n",
    "plt.show()"
   ]
  },
  {
   "attachments": {},
   "cell_type": "markdown",
   "metadata": {},
   "source": [
    "<h3>Batch - Training time and performance improvement</h3>"
   ]
  },
  {
   "cell_type": "code",
   "execution_count": 426,
   "metadata": {},
   "outputs": [],
   "source": [
    "eta = 0.5 \n",
    "Nt = X.shape[0]\n",
    "Ne = 5000\n",
    "dw = 10\n",
    "\n",
    "start = 10\n",
    "step = 50\n",
    "stop = Nt + step\n",
    "\n",
    "Nbs = np.clip(range(start, stop, step), 1, Nt).tolist()"
   ]
  },
  {
   "cell_type": "code",
   "execution_count": 425,
   "metadata": {},
   "outputs": [
    {
     "name": "stdout",
     "output_type": "stream",
     "text": [
      "################################################\n",
      "Training 1\n",
      "Training model using 10 batches\n",
      " -- Training finished --\n",
      "################################################\n",
      "Training 2\n",
      "Training model using 60 batches\n",
      " -- Training finished --\n",
      "################################################\n",
      "Training 3\n",
      "Training model using 110 batches\n",
      " -- Training finished --\n",
      "################################################\n",
      "Training 4\n",
      "Training model using 160 batches\n",
      " -- Training finished --\n",
      "################################################\n",
      "Training 5\n",
      "Training model using 210 batches\n",
      " -- Training finished --\n",
      "################################################\n",
      "Training 6\n",
      "Training model using 260 batches\n",
      " -- Training finished --\n",
      "################################################\n",
      "Training 7\n",
      "Training model using 310 batches\n",
      " -- Training finished --\n",
      "################################################\n",
      "Training 8\n",
      "Training model using 360 batches\n",
      " -- Training finished --\n",
      "################################################\n",
      "Training 9\n",
      "Training model using 410 batches\n",
      " -- Training finished --\n",
      "################################################\n",
      "Training 10\n",
      "Training model using 460 batches\n",
      " -- Training finished --\n",
      "################################################\n",
      "Training 11\n",
      "Training model using 510 batches\n",
      " -- Training finished --\n",
      "################################################\n",
      "Training 12\n",
      "Training model using 560 batches\n",
      " -- Training finished --\n",
      "################################################\n",
      "Training 13\n",
      "Training model using 610 batches\n",
      " -- Training finished --\n",
      "################################################\n",
      "Training 14\n",
      "Training model using 660 batches\n",
      " -- Training finished --\n",
      "################################################\n",
      "Training 15\n",
      "Training model using 710 batches\n",
      " -- Training finished --\n",
      "################################################\n",
      "Training 16\n",
      "Training model using 760 batches\n",
      " -- Training finished --\n",
      "################################################\n",
      "Training 17\n",
      "Training model using 800 batches\n",
      " -- Training finished --\n",
      "############## Analysis finished ##############\n",
      "Best accuracy score: 73.5%\n",
      "Best score at training 3 with 110 batches\n"
     ]
    }
   ],
   "source": [
    "accuracy_vector_nb = []\n",
    "time_spent_nb = []\n",
    "\n",
    "f = open(\"batch_time_accuracy.txt\", \"w\")\n",
    "f.write(f\"eta = {eta}\\n\")\n",
    "f.write(f\"Ne = {Ne}\\n\")\n",
    "f.write(f\"Nt = {X.shape[0]}\\n\")\n",
    "f.write(f\"dw = {10}\\n\")\n",
    "\n",
    "for Nb in Nbs:\n",
    "    print(\"################################################\")\n",
    "    print(f\"Training {Nbs.index(Nb) + 1}\")\n",
    "    print(f\"Training model using {Nb} batches\")\n",
    "\n",
    "    f.write(\"################################################ \\n\")\n",
    "    f.write(f\"Training {Nbs.index(Nb) + 1} \\n\")\n",
    "    f.write(f\"Training model using {Nb} batches \\n\")\n",
    "\n",
    "    start_time = time.time()\n",
    "    W = Rosenblatt_minibatch(X, d, eta, Nt, Ne, Nb, dw)\n",
    "    Wfinal = W[-1,:].reshape(-1,1)\n",
    "    end_time = time.time()\n",
    "\n",
    "    print(f\" -- Training finished --\")\n",
    "\n",
    "    time_spent_nb.append(end_time - start_time)\n",
    "    f.write(f\"Time spent = {end_time - start_time} \\n\")\n",
    "\n",
    "    y = np.sign(X_test @ Wfinal).reshape(-1,1) \n",
    "    accuracy_i = accuracy_score(d_test, y)\n",
    "    accuracy_vector_nb.append(accuracy_i)\n",
    "\n",
    "    f.write(f\"Accuracy = {accuracy_i*100}% \\n\")\n",
    "\n",
    "best_batch_index = accuracy_vector_nb.index(max(accuracy_vector_nb))\n",
    "\n",
    "print(\"############## Analysis finished ##############\")\n",
    "print(f\"Best accuracy score: {max(accuracy_vector_nb)*100}%\")\n",
    "print(f\"Best score at training {best_batch_index + 1} with {Nbs[best_batch_index]} batches\")\n",
    "\n",
    "f.write(\"############## Analysis finished ##############\\n\")\n",
    "f.write(f\"Best accuracy score: {max(accuracy_vector)*100}%\\n\")\n",
    "f.write(f\"Best score at training {best_batch_index + 1} with {Nbs[best_batch_index]} batches\\n\")\n",
    "\n",
    "f.close()"
   ]
  },
  {
   "cell_type": "code",
   "execution_count": 427,
   "metadata": {},
   "outputs": [
    {
     "data": {
      "image/png": "[encoded data removed]",
      "text/plain": [
       "<Figure size 432x288 with 1 Axes>"
      ]
     },
     "metadata": {
      "needs_background": "light"
     },
     "output_type": "display_data"
    }
   ],
   "source": [
    "plt.plot(Nbs, time_spent_nb)\n",
    "plt.xlabel(\"Batches\")\n",
    "plt.ylabel(\"Time (s)\")\n",
    "plt.title(\"Training time by number of batches\")\n",
    "plt.show()"
   ]
  },
  {
   "cell_type": "code",
   "execution_count": 428,
   "metadata": {},
   "outputs": [
    {
     "data": {
      "image/png": "[encoded data removed]",
      "text/plain": [
       "<Figure size 432x288 with 1 Axes>"
      ]
     },
     "metadata": {
      "needs_background": "light"
     },
     "output_type": "display_data"
    }
   ],
   "source": [
    "plt.plot(Nbs, accuracy_vector_nb)\n",
    "plt.xlabel(\"Batches\")\n",
    "plt.ylabel(\"Accuracy (%)\")\n",
    "plt.title(\"Accuracy by number of batches\")\n",
    "plt.show()"
   ]
  },
  {
   "attachments": {},
   "cell_type": "markdown",
   "metadata": {},
   "source": [
    "<h2>Doing a small Grid Search</h2>"
   ]
  },
  {
   "cell_type": "code",
   "execution_count": 475,
   "metadata": {},
   "outputs": [],
   "source": [
    "eta = 0.5 \n",
    "Nt = X.shape[0]\n",
    "dw = 10\n",
    "\n",
    "Nes = [1000, 2000, 3000, 5000, 10000]\n",
    "Nbs = [50, 100, 150, 200, 300]"
   ]
  },
  {
   "cell_type": "code",
   "execution_count": 476,
   "metadata": {},
   "outputs": [
    {
     "name": "stdout",
     "output_type": "stream",
     "text": [
      "Accuracy for 1000 epochs and 50 batches = 69.0%\n",
      "Accuracy for 1000 epochs and 100 batches = 65.5%\n",
      "Accuracy for 1000 epochs and 150 batches = 65.5%\n",
      "Accuracy for 1000 epochs and 200 batches = 63.5%\n",
      "Accuracy for 1000 epochs and 300 batches = 70.5%\n",
      "Accuracy for 2000 epochs and 50 batches = 70.0%\n",
      "Accuracy for 2000 epochs and 100 batches = 69.0%\n",
      "Accuracy for 2000 epochs and 150 batches = 69.0%\n",
      "Accuracy for 2000 epochs and 200 batches = 68.0%\n",
      "Accuracy for 2000 epochs and 300 batches = 65.0%\n",
      "Accuracy for 3000 epochs and 50 batches = 70.5%\n",
      "Accuracy for 3000 epochs and 100 batches = 70.0%\n",
      "Accuracy for 3000 epochs and 150 batches = 70.0%\n",
      "Accuracy for 3000 epochs and 200 batches = 70.0%\n",
      "Accuracy for 3000 epochs and 300 batches = 67.5%\n",
      "Accuracy for 5000 epochs and 50 batches = 70.0%\n",
      "Accuracy for 5000 epochs and 100 batches = 70.5%\n",
      "Accuracy for 5000 epochs and 150 batches = 70.5%\n",
      "Accuracy for 5000 epochs and 200 batches = 70.0%\n",
      "Accuracy for 5000 epochs and 300 batches = 68.0%\n",
      "Accuracy for 10000 epochs and 50 batches = 71.0%\n",
      "Accuracy for 10000 epochs and 100 batches = 70.0%\n",
      "Accuracy for 10000 epochs and 150 batches = 70.0%\n",
      "Accuracy for 10000 epochs and 200 batches = 70.0%\n",
      "Accuracy for 10000 epochs and 300 batches = 70.5%\n",
      "############## Analysis finished ##############\n",
      "Best accuracy score: 71.0%\n",
      "Best score parameters was 50 batches with 10000 epochs\n"
     ]
    }
   ],
   "source": [
    "accuracy_vector_grid = []\n",
    "\n",
    "for Ne in Nes:\n",
    "    for Nb in Nbs:\n",
    "        eta = Nb\n",
    "        W = Rosenblatt_minibatch(X, d, eta, Nt, Ne, Nb, dw)\n",
    "        Wfinal = W[-1,:].reshape(-1,1)\n",
    "\n",
    "        y = np.sign(X_test @ Wfinal).reshape(-1,1) \n",
    "        accuracy_i = accuracy_score(d_test, y)\n",
    "        accuracy_vector_grid.append(accuracy_i)\n",
    "\n",
    "        print(f\"Accuracy for {Ne} epochs and {Nb} batches = {accuracy_i*100}%\")\n",
    "\n",
    "best_batch_index = accuracy_vector_grid.index(max(accuracy_vector_grid)) % len(Nbs)\n",
    "best_epoch_index = int(np.floor(accuracy_vector_grid.index(max(accuracy_vector_grid))/len(Nbs)))\n",
    "\n",
    "print(\"############## Analysis finished ##############\")\n",
    "print(f\"Best accuracy score: {max(accuracy_vector_grid)*100}%\")\n",
    "print(f\"Best score parameters was {Nbs[best_batch_index]} batches with {Nes[best_epoch_index]} epochs\")"
   ]
  }
 ],
 "metadata": {
  "kernelspec": {
   "display_name": "Python 3",
   "language": "python",
   "name": "python3"
  },
  "language_info": {
   "codemirror_mode": {
    "name": "ipython",
    "version": 3
   },
   "file_extension": ".py",
   "mimetype": "text/x-python",
   "name": "python",
   "nbconvert_exporter": "python",
   "pygments_lexer": "ipython3",
   "version": "3.9.13"
  },
  "orig_nbformat": 4
 },
 "nbformat": 4,
 "nbformat_minor": 2
}
